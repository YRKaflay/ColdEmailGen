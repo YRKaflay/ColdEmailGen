{
 "cells": [
  {
   "cell_type": "code",
   "execution_count": 1,
   "id": "1b0c69be",
   "metadata": {},
   "outputs": [],
   "source": [
    "import chromadb\n",
    "\n",
    "client = chromadb.Client()\n",
    "collect = client.create_collection(name=\"my_collection\")"
   ]
  },
  {
   "cell_type": "code",
   "execution_count": 2,
   "id": "c82ca6c9",
   "metadata": {},
   "outputs": [],
   "source": [
    "collect.add(\n",
    "    documents=[\n",
    "        \"Doc1 is a description about USA\",\n",
    "        \"Doc2 is a description about India\"\n",
    "    ],\n",
    "    ids=['id1','id2']\n",
    ")"
   ]
  },
  {
   "cell_type": "code",
   "execution_count": 3,
   "id": "8b606777",
   "metadata": {},
   "outputs": [
    {
     "data": {
      "text/plain": [
       "{'ids': [['id2', 'id1']],\n",
       " 'embeddings': None,\n",
       " 'documents': [['Doc2 is a description about India',\n",
       "   'Doc1 is a description about USA']],\n",
       " 'uris': None,\n",
       " 'data': None,\n",
       " 'metadatas': [[None, None]],\n",
       " 'distances': [[1.327763557434082, 1.631899118423462]],\n",
       " 'included': [<IncludeEnum.distances: 'distances'>,\n",
       "  <IncludeEnum.documents: 'documents'>,\n",
       "  <IncludeEnum.metadatas: 'metadatas'>]}"
      ]
     },
     "execution_count": 3,
     "metadata": {},
     "output_type": "execute_result"
    }
   ],
   "source": [
    "results = collect.query(query_texts=['Query is about tea'],\n",
    "                        n_results=2)\n",
    "\n",
    "results"
   ]
  },
  {
   "cell_type": "code",
   "execution_count": 4,
   "id": "c02a23c2",
   "metadata": {},
   "outputs": [
    {
     "data": {
      "text/plain": [
       "['id1', 'id2']"
      ]
     },
     "execution_count": 4,
     "metadata": {},
     "output_type": "execute_result"
    }
   ],
   "source": [
    "doc = collect.get()\n",
    "doc['ids']"
   ]
  },
  {
   "cell_type": "code",
   "execution_count": 5,
   "id": "2bbaedec",
   "metadata": {},
   "outputs": [
    {
     "data": {
      "text/plain": [
       "{'ids': [],\n",
       " 'embeddings': None,\n",
       " 'documents': [],\n",
       " 'uris': None,\n",
       " 'data': None,\n",
       " 'metadatas': [],\n",
       " 'included': [<IncludeEnum.documents: 'documents'>,\n",
       "  <IncludeEnum.metadatas: 'metadatas'>]}"
      ]
     },
     "execution_count": 5,
     "metadata": {},
     "output_type": "execute_result"
    }
   ],
   "source": [
    "collect.delete(ids=doc['ids'])\n",
    "collect.get()"
   ]
  },
  {
   "cell_type": "code",
   "execution_count": 6,
   "id": "665bfa92",
   "metadata": {},
   "outputs": [],
   "source": [
    "collect.add(\n",
    "    documents=[\n",
    "        \"Doc1 is a description about USA\",\n",
    "        \"Doc2 is a description about India\"\n",
    "    ],\n",
    "    ids=['id1','id2'],\n",
    "    metadatas=[{'url':'https://en.wikipedia.org/wiki/India'},\n",
    "                {'url':'https://en.wikipedia.org/wiki/United_States'}]\n",
    ")"
   ]
  },
  {
   "cell_type": "code",
   "execution_count": 7,
   "id": "043715d0",
   "metadata": {},
   "outputs": [
    {
     "data": {
      "text/plain": [
       "{'ids': ['id1', 'id2'],\n",
       " 'embeddings': None,\n",
       " 'documents': ['Doc1 is a description about USA',\n",
       "  'Doc2 is a description about India'],\n",
       " 'uris': None,\n",
       " 'data': None,\n",
       " 'metadatas': [{'url': 'https://en.wikipedia.org/wiki/India'},\n",
       "  {'url': 'https://en.wikipedia.org/wiki/United_States'}],\n",
       " 'included': [<IncludeEnum.documents: 'documents'>,\n",
       "  <IncludeEnum.metadatas: 'metadatas'>]}"
      ]
     },
     "execution_count": 7,
     "metadata": {},
     "output_type": "execute_result"
    }
   ],
   "source": [
    "collect.get()"
   ]
  },
  {
   "cell_type": "code",
   "execution_count": 8,
   "id": "9ac2eef9",
   "metadata": {},
   "outputs": [
    {
     "name": "stderr",
     "output_type": "stream",
     "text": [
      "USER_AGENT environment variable not set, consider setting it to identify your requests.\n"
     ]
    }
   ],
   "source": [
    "from langchain_community.document_loaders import WebBaseLoader"
   ]
  },
  {
   "cell_type": "code",
   "execution_count": 49,
   "id": "dccf0ed6",
   "metadata": {},
   "outputs": [],
   "source": [
    "def clean_text(text):\n",
    "    # Remove HTML tags\n",
    "    text = re.sub(r'<[^>]*?>', '', text)\n",
    "    # Remove URLs\n",
    "    text = re.sub(r'http[s]?://(?:[a-zA-Z]|[0-9]|[$-_@.&+]|[!*\\\\(\\\\),]|(?:%[0-9a-fA-F][0-9a-fA-F]))+', '', text)\n",
    "    # Remove special characters\n",
    "    text = re.sub(r'[^a-zA-Z0-9 ]', '', text)\n",
    "    # Replace multiple spaces with a single space\n",
    "    text = re.sub(r'\\s{2,}', ' ', text)\n",
    "    # Trim leading and trailing whitespace\n",
    "    text = text.strip()\n",
    "    # Remove extra whitespace\n",
    "    text = ' '.join(text.split())\n",
    "    return text"
   ]
  },
  {
   "cell_type": "code",
   "execution_count": 50,
   "id": "9f0f5e00",
   "metadata": {},
   "outputs": [
    {
     "name": "stdout",
     "output_type": "stream",
     "text": [
      "Application DeveloperExperience Front End 21839 IBM Skip to content IBM IBM Careers Life IBM Culture Locations Careers blog Teams AI watsonx Cloud Consulting Data Analytics Design UX Enterprise Operations Infrastructure Technology Project and Product Management Research Sales Security Software Engineering Entry Level Internship Career opportunities Career guidance Resources Application process Application FAQs Applicant data privacy Login Back to search results Application DeveloperExperience Front End Mysore Karnataka IndiaConsultingProfessionalEmailXLinkedIn Apply now Introduction In this role youll work in one of our IBM Consulting Client Innovation Centers Delivery Centers where we deliver deep technical and industry expertise to a wide range of public and private sector clients around the world Our delivery centers offer our clients locally based skills and technical expertise to drive innovation and adoption of new technologyIn this role youll work in one of our IBM Consulting Client Innovation Centers Delivery Centers where we deliver deep technical and industry expertise to a wide range of public and private sector clients around the world Our delivery centers offer our clients locally based skills and technical expertise to drive innovation and adoption of new technology Your role and responsibilities As a Software Developer youll participate in many aspects of the software development lifecycle such as design code implementation testing and support You will create software that enables your clients hybridcloud and AI journeys Your primary responsibilities include Comprehensive Feature Development and Issue Resolution Working on the end to end feature development and solving challenges faced in the implementation Stakeholder Collaboration and Issue Resolution Collaborate with key stakeholders internal and external to understand the problems issues with the product and features and solve the issues as per SLAs defined Continuous Learning and Technology Integration Being eager to learn new technologies and implementing the same in feature development Required education Bachelors Degree Preferred education Masters Degree Required technical and professional expertise 512 Years of experience React JS HTMLCSS experience ideally including concepts like modularization layouting and accessibilityDeveloping frontend application using ReactJS with ReduxTypescript Javascript NodeJS ES5 Frontend functional test Preferred technical and professional experience Fastlearner and proven criticalthinker able to assess complex issues and mitigate risk skilled in analysis troubleshooting and process improvement and oversightStrong interpersonal presentation and organization skills comfortable with coaching teaching and monitoring Java best practicesHigh proficiency in MS Word Excel and PowerPoint ABOUT BUSINESS UNIT IBM Consulting is IBMs consulting and global professional services business with market leading capabilities in business and technology transformation With deep expertise in many industries we offer strategy experience technology and operations services to many of the most innovative and valuable companies in the world Our people are focused on accelerating our clients businesses through the power of collaboration We believe in the power of technology responsibly used to help people partners and the planet YOUR LIFE IBM In a world where technology never stands still we understand that dedication to our clients success innovation that matters and trust and personal responsibility in all our relationships lives in what we do as IBMers as we strive to be the catalyst that makes the world work better Being an IBMer means youll be able to learn and develop yourself and your career youll be encouraged to be courageous and experiment everyday all whilst having continuous trust and support in an environment where everyone can thrive whatever their personal or professional background Our IBMers are growth minded always staying curious open to feedback and learning new information and skills to constantly transform themselves and our company They are trusted to provide ongoing feedback to help other IBMers grow as well as collaborate with colleagues keeping in mind a team focused approach to include different perspectives to drive exceptional outcomes for our customers The courage our IBMers have to make critical decisions everyday is essential to IBM becoming the catalyst for progress always embracing challenges with resources they have to hand a cando attitude and always striving for an outcome focused approach within everything that they do Are you ready to be an IBMer ABOUT IBM IBMs greatest invention is the IBMer We believe that through the application of intelligence reason and science we can improve business society and the human condition bringing the power of an open hybrid cloud and AI strategy to life for our clients and partners around the world Restlessly reinventing since 1911 we are not only one of the largest corporate organizations in the world were also one of the biggest technology and consulting employers with many of the Fortune 50 companies relying on the IBM Cloud to run their business At IBM we pride ourselves on being an early adopter of artificial intelligence quantum computing and blockchain Now its time for you to join us on our journey to being a responsible technology innovator and a force for good in the worldIBM is proud to be an equalopportunity employer All qualifiedapplicants will receive consideration for employment without regard to racecolor religion sex gender gender identity or expression sexualorientation national origin caste genetics pregnancy disabilityneurodivergence age veteran status or other characteristics IBM is alsocommitted to compliance with all fair employment practices regardingcitizenship and immigration status OTHER RELEVANT JOB DETAILS When applying to jobs of your interest we recommend that you do so for those that match your experience and expertise Our recruiters advise that you apply to not more than 3 roles in a year for the best candidate experience For additional information about location requirements please discuss with the recruiter following submission of your application Job Title Application DeveloperExperience Front End Job ID 21839 City Township Village Mysore State Province Karnataka Country India Work arrangement Hybrid Area of work Software Engineering Employment type Regular Position type Professional Travel required Up to 20 or 1 day a week Company 0063 IBM India Private Limited Shift General daytime Is this role a commissionablesales incentive based position No Apply now Back to search results Application InfoApplication FAQPrivacy statement Learn more about IBM English EnglishEspaolFranaisFranais CanadienPortugusSloveninaContact IBMPrivacyTerms of useAccessibility\n"
     ]
    }
   ],
   "source": [
    "loader = WebBaseLoader(\"https://ibmglobal.avature.net/en_US/careers/JobDetail?jobId=21839&source=WEB_Search_INDIA\")\n",
    "pg_data = clean_text(loader.load().pop().page_content)\n",
    "print(pg_data)"
   ]
  },
  {
   "cell_type": "code",
   "execution_count": 51,
   "id": "bca1394d",
   "metadata": {},
   "outputs": [],
   "source": [
    "from langchain_core.prompts import PromptTemplate\n",
    "\n",
    "prompt_ext = PromptTemplate.from_template(\n",
    "    \"\"\"\n",
    "    ### SCRAPED TEXT FROM WEBSITE:\n",
    "    {page_data}\n",
    "    ### INSTRUCTION:\n",
    "    The scraped text is from the career's page of a website.\n",
    "    Your job is to extract the job postings and return them in JSON format containing\n",
    "    the following keys: 'role', 'experience','skills' and 'description'.\n",
    "    Only return the valid JSON.\n",
    "    Skip the think part.\n",
    "    ### VALID JSON (NO PREAMBLE):\n",
    "    \"\"\"\n",
    ")"
   ]
  },
  {
   "cell_type": "code",
   "execution_count": 19,
   "id": "b28172c7",
   "metadata": {},
   "outputs": [
    {
     "name": "stdout",
     "output_type": "stream",
     "text": [
      "^C\n",
      "Note: you may need to restart the kernel to use updated packages.\n"
     ]
    },
    {
     "name": "stdout",
     "output_type": "stream",
     "text": [
      "Requirement already satisfied: ChatOllama in c:\\users\\user\\projects\\.venv\\lib\\site-packages (0.2.13)\n",
      "Requirement already satisfied: ollama in c:\\users\\user\\projects\\.venv\\lib\\site-packages (from ChatOllama) (0.4.7)\n",
      "Requirement already satisfied: asyncio in c:\\users\\user\\projects\\.venv\\lib\\site-packages (from ChatOllama) (3.4.3)\n",
      "Requirement already satisfied: httpx<0.29,>=0.27 in c:\\users\\user\\projects\\.venv\\lib\\site-packages (from ollama->ChatOllama) (0.28.1)\n",
      "Requirement already satisfied: pydantic<3.0.0,>=2.9.0 in c:\\users\\user\\projects\\.venv\\lib\\site-packages (from ollama->ChatOllama) (2.10.6)\n",
      "Requirement already satisfied: anyio in c:\\users\\user\\projects\\.venv\\lib\\site-packages (from httpx<0.29,>=0.27->ollama->ChatOllama) (4.8.0)\n",
      "Requirement already satisfied: certifi in c:\\users\\user\\projects\\.venv\\lib\\site-packages (from httpx<0.29,>=0.27->ollama->ChatOllama) (2025.1.31)\n",
      "Requirement already satisfied: httpcore==1.* in c:\\users\\user\\projects\\.venv\\lib\\site-packages (from httpx<0.29,>=0.27->ollama->ChatOllama) (1.0.7)\n",
      "Requirement already satisfied: idna in c:\\users\\user\\projects\\.venv\\lib\\site-packages (from httpx<0.29,>=0.27->ollama->ChatOllama) (3.10)\n",
      "Requirement already satisfied: h11<0.15,>=0.13 in c:\\users\\user\\projects\\.venv\\lib\\site-packages (from httpcore==1.*->httpx<0.29,>=0.27->ollama->ChatOllama) (0.14.0)\n",
      "Requirement already satisfied: annotated-types>=0.6.0 in c:\\users\\user\\projects\\.venv\\lib\\site-packages (from pydantic<3.0.0,>=2.9.0->ollama->ChatOllama) (0.7.0)\n",
      "Requirement already satisfied: pydantic-core==2.27.2 in c:\\users\\user\\projects\\.venv\\lib\\site-packages (from pydantic<3.0.0,>=2.9.0->ollama->ChatOllama) (2.27.2)\n",
      "Requirement already satisfied: typing-extensions>=4.12.2 in c:\\users\\user\\projects\\.venv\\lib\\site-packages (from pydantic<3.0.0,>=2.9.0->ollama->ChatOllama) (4.12.2)\n",
      "Requirement already satisfied: exceptiongroup>=1.0.2 in c:\\users\\user\\projects\\.venv\\lib\\site-packages (from anyio->httpx<0.29,>=0.27->ollama->ChatOllama) (1.2.2)\n",
      "Requirement already satisfied: sniffio>=1.1 in c:\\users\\user\\projects\\.venv\\lib\\site-packages (from anyio->httpx<0.29,>=0.27->ollama->ChatOllama) (1.3.1)\n"
     ]
    }
   ],
   "source": [
    "pip install ChatOllama"
   ]
  },
  {
   "cell_type": "code",
   "execution_count": 52,
   "id": "1cc686b2",
   "metadata": {},
   "outputs": [],
   "source": [
    "from langchain_ollama.chat_models import ChatOllama \n",
    "local_model = \"deepseek-r1:8b\"\n",
    "llm = ChatOllama(model=local_model)"
   ]
  },
  {
   "cell_type": "code",
   "execution_count": 53,
   "id": "63a315ee",
   "metadata": {},
   "outputs": [
    {
     "name": "stdout",
     "output_type": "stream",
     "text": [
      "<think>\n",
      "Okay, so I need to figure out how to extract the job posting from the given scraped text. The user provided a chunk of text that seems to be from an IBM career page. My task is to parse this and create a JSON with specific keys: 'role', 'experience', 'skills', and 'description'.\n",
      "\n",
      "First, I'll start by reading through the text carefully to understand what each section contains. The role is mentioned several times as \"Application Developer / Experience Front End\" and the job ID 21839. So, the role key seems straightforward.\n",
      "\n",
      "Next, looking for experience, the text mentions \"Entry Level Internship\". That should go into the 'experience' field. For skills, I need to find all relevant technical terms. The text lists React JS, HTML/CSS, Redux, TypeScript, Node.js, ES6+, Fastlearner, and critical thinking among others. These will be listed as an array under 'skills'.\n",
      "\n",
      "The description is a bit longer. It talks about working in IBM Consulting's Client Innovation Centers, delivering technology expertise to clients. It also outlines the responsibilities like feature development, collaboration with stakeholders, continuous learning, and specific technical skills required. So I'll summarize this into a concise paragraph for the 'description' field.\n",
      "\n",
      "I need to ensure that only valid information is included, skipping unnecessary details. Also, make sure the JSON structure is correct without any markdown formatting as per the user's request.\n",
      "</think>\n",
      "\n",
      "```json\n",
      "{\n",
      "  \"role\": \"Application Developer / Experience Front End\",\n",
      "  \"experience\": \"Entry Level Internship\",\n",
      "  \"skills\": [\n",
      "    \"React JS\",\n",
      "    \"HTML/CSS\",\n",
      "    \"Redux\",\n",
      "    \"TypeScript\",\n",
      "    \"Node.js\",\n",
      "    \"ES6+\",\n",
      "    \"Fastlearner\",\n",
      "    \"Critical Thinking\",\n",
      "    \"Analysis\",\n",
      "    \"Troubleshooting\",\n",
      "    \"Process Improvement\",\n",
      "    \"Java Best Practices\",\n",
      "    \"MS Word, Excel, PowerPoint\"\n",
      "  ],\n",
      "  \"description\": \"As an Application Developer in IBM Consulting's Client Innovation Centers, you'll work on delivering deep technical expertise to clients globally. Your responsibilities include end-to-end feature development, collaboration with stakeholders, continuous learning, and integrating new technologies. This role requires experience with React JS, HTML/CSS, Redux, TypeScript, Node.js, ES6+, and a strong problem-solving mindset.\"\n",
      "}\n",
      "```\n"
     ]
    }
   ],
   "source": [
    "chain_ext = prompt_ext | llm\n",
    "res = chain_ext.invoke(input={'page_data':pg_data})\n",
    "print(res.content)"
   ]
  },
  {
   "cell_type": "code",
   "execution_count": 32,
   "id": "3b1e1c89",
   "metadata": {},
   "outputs": [],
   "source": [
    "import re"
   ]
  },
  {
   "cell_type": "code",
   "execution_count": 29,
   "id": "ac710197",
   "metadata": {},
   "outputs": [],
   "source": [
    "def clean_text(text):\n",
    "    # Remove HTML tags\n",
    "    text = re.sub(r'<[^>]*?>', '', text)\n",
    "    # Remove URLs\n",
    "    text = re.sub(r'http[s]?://(?:[a-zA-Z]|[0-9]|[$-_@.&+]|[!*\\\\(\\\\),]|(?:%[0-9a-fA-F][0-9a-fA-F]))+', '', text)\n",
    "    # Remove special characters\n",
    "    text = re.sub(r'[^a-zA-Z0-9 ]', '', text)\n",
    "    # Replace multiple spaces with a single space\n",
    "    text = re.sub(r'\\s{2,}', ' ', text)\n",
    "    # Trim leading and trailing whitespace\n",
    "    text = text.strip()\n",
    "    # Remove extra whitespace\n",
    "    text = ' '.join(text.split())\n",
    "    return text"
   ]
  },
  {
   "cell_type": "code",
   "execution_count": 46,
   "id": "9c889f48",
   "metadata": {},
   "outputs": [],
   "source": [
    "main = res.content.split('json')\n",
    "main = main[1]\n"
   ]
  },
  {
   "cell_type": "code",
   "execution_count": 42,
   "id": "47515069",
   "metadata": {},
   "outputs": [
    {
     "ename": "TypeError",
     "evalue": "expected string or bytes-like object",
     "output_type": "error",
     "traceback": [
      "\u001b[1;31m---------------------------------------------------------------------------\u001b[0m",
      "\u001b[1;31mTypeError\u001b[0m                                 Traceback (most recent call last)",
      "Cell \u001b[1;32mIn[42], line 1\u001b[0m\n\u001b[1;32m----> 1\u001b[0m main \u001b[38;5;241m=\u001b[39m \u001b[43mclean_text\u001b[49m\u001b[43m(\u001b[49m\u001b[43mmain\u001b[49m\u001b[43m)\u001b[49m\n\u001b[0;32m      2\u001b[0m main\n",
      "Cell \u001b[1;32mIn[29], line 3\u001b[0m, in \u001b[0;36mclean_text\u001b[1;34m(text)\u001b[0m\n\u001b[0;32m      1\u001b[0m \u001b[38;5;28;01mdef\u001b[39;00m\u001b[38;5;250m \u001b[39m\u001b[38;5;21mclean_text\u001b[39m(text):\n\u001b[0;32m      2\u001b[0m     \u001b[38;5;66;03m# Remove HTML tags\u001b[39;00m\n\u001b[1;32m----> 3\u001b[0m     text \u001b[38;5;241m=\u001b[39m \u001b[43mre\u001b[49m\u001b[38;5;241;43m.\u001b[39;49m\u001b[43msub\u001b[49m\u001b[43m(\u001b[49m\u001b[38;5;124;43mr\u001b[39;49m\u001b[38;5;124;43m'\u001b[39;49m\u001b[38;5;124;43m<[^>]*?>\u001b[39;49m\u001b[38;5;124;43m'\u001b[39;49m\u001b[43m,\u001b[49m\u001b[43m \u001b[49m\u001b[38;5;124;43m'\u001b[39;49m\u001b[38;5;124;43m'\u001b[39;49m\u001b[43m,\u001b[49m\u001b[43m \u001b[49m\u001b[43mtext\u001b[49m\u001b[43m)\u001b[49m\n\u001b[0;32m      4\u001b[0m     \u001b[38;5;66;03m# Remove URLs\u001b[39;00m\n\u001b[0;32m      5\u001b[0m     text \u001b[38;5;241m=\u001b[39m re\u001b[38;5;241m.\u001b[39msub(\u001b[38;5;124mr\u001b[39m\u001b[38;5;124m'\u001b[39m\u001b[38;5;124mhttp[s]?://(?:[a-zA-Z]|[0-9]|[$-_@.&+]|[!*\u001b[39m\u001b[38;5;130;01m\\\\\u001b[39;00m\u001b[38;5;124m(\u001b[39m\u001b[38;5;130;01m\\\\\u001b[39;00m\u001b[38;5;124m),]|(?:\u001b[39m\u001b[38;5;124m%\u001b[39m\u001b[38;5;124m[0-9a-fA-F][0-9a-fA-F]))+\u001b[39m\u001b[38;5;124m'\u001b[39m, \u001b[38;5;124m'\u001b[39m\u001b[38;5;124m'\u001b[39m, text)\n",
      "File \u001b[1;32m~\\AppData\\Local\\Programs\\Python\\Python310\\lib\\re.py:209\u001b[0m, in \u001b[0;36msub\u001b[1;34m(pattern, repl, string, count, flags)\u001b[0m\n\u001b[0;32m    202\u001b[0m \u001b[38;5;28;01mdef\u001b[39;00m\u001b[38;5;250m \u001b[39m\u001b[38;5;21msub\u001b[39m(pattern, repl, string, count\u001b[38;5;241m=\u001b[39m\u001b[38;5;241m0\u001b[39m, flags\u001b[38;5;241m=\u001b[39m\u001b[38;5;241m0\u001b[39m):\n\u001b[0;32m    203\u001b[0m \u001b[38;5;250m    \u001b[39m\u001b[38;5;124;03m\"\"\"Return the string obtained by replacing the leftmost\u001b[39;00m\n\u001b[0;32m    204\u001b[0m \u001b[38;5;124;03m    non-overlapping occurrences of the pattern in string by the\u001b[39;00m\n\u001b[0;32m    205\u001b[0m \u001b[38;5;124;03m    replacement repl.  repl can be either a string or a callable;\u001b[39;00m\n\u001b[0;32m    206\u001b[0m \u001b[38;5;124;03m    if a string, backslash escapes in it are processed.  If it is\u001b[39;00m\n\u001b[0;32m    207\u001b[0m \u001b[38;5;124;03m    a callable, it's passed the Match object and must return\u001b[39;00m\n\u001b[0;32m    208\u001b[0m \u001b[38;5;124;03m    a replacement string to be used.\"\"\"\u001b[39;00m\n\u001b[1;32m--> 209\u001b[0m     \u001b[38;5;28;01mreturn\u001b[39;00m \u001b[43m_compile\u001b[49m\u001b[43m(\u001b[49m\u001b[43mpattern\u001b[49m\u001b[43m,\u001b[49m\u001b[43m \u001b[49m\u001b[43mflags\u001b[49m\u001b[43m)\u001b[49m\u001b[38;5;241;43m.\u001b[39;49m\u001b[43msub\u001b[49m\u001b[43m(\u001b[49m\u001b[43mrepl\u001b[49m\u001b[43m,\u001b[49m\u001b[43m \u001b[49m\u001b[43mstring\u001b[49m\u001b[43m,\u001b[49m\u001b[43m \u001b[49m\u001b[43mcount\u001b[49m\u001b[43m)\u001b[49m\n",
      "\u001b[1;31mTypeError\u001b[0m: expected string or bytes-like object"
     ]
    }
   ],
   "source": [
    "main = clean_text(main)\n",
    "main"
   ]
  },
  {
   "cell_type": "code",
   "execution_count": 47,
   "id": "0ff9a5fb",
   "metadata": {},
   "outputs": [
    {
     "data": {
      "text/plain": [
       "{'role': 'Application Developer - Experience Front End',\n",
       " 'experience': '5-12 years',\n",
       " 'skills': ['React.js',\n",
       "  'HTML/CSS',\n",
       "  'Redux',\n",
       "  'TypeScript',\n",
       "  'JavaScript',\n",
       "  'Node.js',\n",
       "  'ES5+',\n",
       "  'Front-end functional testing'],\n",
       " 'description': \"Position within IBM Consulting's Client Innovation Centers, delivering technical expertise and solutions for clients. Responsibilities include feature development, issue resolution, collaboration with stakeholders, and continuous learning in problem-solving and process improvement.\"}"
      ]
     },
     "execution_count": 47,
     "metadata": {},
     "output_type": "execute_result"
    }
   ],
   "source": [
    "from langchain_core.output_parsers import JsonOutputParser\n",
    "\n",
    "jsonpar = JsonOutputParser()\n",
    "jsonres = jsonpar.parse(main)\n",
    "jsonres"
   ]
  },
  {
   "cell_type": "code",
   "execution_count": 15,
   "id": "b7a6bdc7",
   "metadata": {},
   "outputs": [
    {
     "data": {
      "text/html": [
       "<div>\n",
       "<style scoped>\n",
       "    .dataframe tbody tr th:only-of-type {\n",
       "        vertical-align: middle;\n",
       "    }\n",
       "\n",
       "    .dataframe tbody tr th {\n",
       "        vertical-align: top;\n",
       "    }\n",
       "\n",
       "    .dataframe thead th {\n",
       "        text-align: right;\n",
       "    }\n",
       "</style>\n",
       "<table border=\"1\" class=\"dataframe\">\n",
       "  <thead>\n",
       "    <tr style=\"text-align: right;\">\n",
       "      <th></th>\n",
       "      <th>Techstack</th>\n",
       "      <th>Links</th>\n",
       "    </tr>\n",
       "  </thead>\n",
       "  <tbody>\n",
       "    <tr>\n",
       "      <th>0</th>\n",
       "      <td>React, Node.js, MongoDB</td>\n",
       "      <td>https://example.com/react-portfolio</td>\n",
       "    </tr>\n",
       "    <tr>\n",
       "      <th>1</th>\n",
       "      <td>Angular,.NET, SQL Server</td>\n",
       "      <td>https://example.com/angular-portfolio</td>\n",
       "    </tr>\n",
       "    <tr>\n",
       "      <th>2</th>\n",
       "      <td>Vue.js, Ruby on Rails, PostgreSQL</td>\n",
       "      <td>https://example.com/vue-portfolio</td>\n",
       "    </tr>\n",
       "    <tr>\n",
       "      <th>3</th>\n",
       "      <td>Python, Django, MySQL</td>\n",
       "      <td>https://example.com/python-portfolio</td>\n",
       "    </tr>\n",
       "    <tr>\n",
       "      <th>4</th>\n",
       "      <td>Java, Spring Boot, Oracle</td>\n",
       "      <td>https://example.com/java-portfolio</td>\n",
       "    </tr>\n",
       "  </tbody>\n",
       "</table>\n",
       "</div>"
      ],
      "text/plain": [
       "                           Techstack                                  Links\n",
       "0            React, Node.js, MongoDB    https://example.com/react-portfolio\n",
       "1           Angular,.NET, SQL Server  https://example.com/angular-portfolio\n",
       "2  Vue.js, Ruby on Rails, PostgreSQL      https://example.com/vue-portfolio\n",
       "3              Python, Django, MySQL   https://example.com/python-portfolio\n",
       "4          Java, Spring Boot, Oracle     https://example.com/java-portfolio"
      ]
     },
     "execution_count": 15,
     "metadata": {},
     "output_type": "execute_result"
    }
   ],
   "source": [
    "import pandas as pd\n",
    "\n",
    "df = pd.read_csv(r'C:\\Users\\USER\\Projects\\RAG\\ColdEmailGen\\app\\res\\my_portfolio.csv')\n",
    "df.head()"
   ]
  },
  {
   "cell_type": "code",
   "execution_count": 16,
   "id": "3a6c9bf9",
   "metadata": {},
   "outputs": [],
   "source": [
    "import uuid"
   ]
  },
  {
   "cell_type": "code",
   "execution_count": 17,
   "id": "5c1747c5",
   "metadata": {},
   "outputs": [],
   "source": [
    "client = chromadb.PersistentClient('vectorstore')\n",
    "collect = client.get_or_create_collection(name='portfolio')\n",
    "\n",
    "if not collect.count():\n",
    "    for _, row in df.iterrows():\n",
    "        collect.add(documents=row[\"Techstack\"],\n",
    "                    metadatas={'links':row[\"Links\"]},\n",
    "                    ids=[str(uuid.uuid4())])"
   ]
  },
  {
   "cell_type": "code",
   "execution_count": 18,
   "id": "326a49e4",
   "metadata": {},
   "outputs": [
    {
     "data": {
      "text/plain": [
       "[[{'links': 'https://example.com/ml-python-portfolio'},\n",
       "  {'links': 'https://example.com/python-portfolio'}],\n",
       " [{'links': 'https://example.com/react-portfolio'},\n",
       "  {'links': 'https://example.com/react-native-portfolio'}]]"
      ]
     },
     "execution_count": 18,
     "metadata": {},
     "output_type": "execute_result"
    }
   ],
   "source": [
    "links = collect.query(query_texts=[\"Experience in Python\", \"Experience in React\"],n_results=2).get('metadatas')\n",
    "links"
   ]
  },
  {
   "cell_type": "code",
   "execution_count": 23,
   "id": "de44e10c",
   "metadata": {},
   "outputs": [
    {
     "data": {
      "text/plain": [
       "['React.js',\n",
       " 'HTML/CSS',\n",
       " 'Redux',\n",
       " 'TypeScript',\n",
       " 'JavaScript',\n",
       " 'Node.js',\n",
       " 'ES5+',\n",
       " 'Front-end functional testing']"
      ]
     },
     "execution_count": 23,
     "metadata": {},
     "output_type": "execute_result"
    }
   ],
   "source": [
    "jobs.get('skills')"
   ]
  },
  {
   "cell_type": "code",
   "execution_count": 54,
   "id": "f66352c6",
   "metadata": {},
   "outputs": [],
   "source": [
    "links = collect.query(query_texts=jobs.get('skills'),n_results=2).get('metadatas')"
   ]
  },
  {
   "cell_type": "code",
   "execution_count": 55,
   "id": "af82b0a5",
   "metadata": {},
   "outputs": [
    {
     "data": {
      "text/plain": [
       "[[{'links': 'https://example.com/react-portfolio'},\n",
       "  {'links': 'https://example.com/react-native-portfolio'}],\n",
       " [{'links': 'https://example.com/wordpress-portfolio'},\n",
       "  {'links': 'https://example.com/magento-portfolio'}],\n",
       " [{'links': 'https://example.com/full-stack-js-portfolio'},\n",
       "  {'links': 'https://example.com/typescript-frontend-portfolio'}],\n",
       " [{'links': 'https://example.com/typescript-frontend-portfolio'},\n",
       "  {'links': 'https://example.com/full-stack-js-portfolio'}],\n",
       " [{'links': 'https://example.com/full-stack-js-portfolio'},\n",
       "  {'links': 'https://example.com/typescript-frontend-portfolio'}],\n",
       " [{'links': 'https://example.com/react-portfolio'},\n",
       "  {'links': 'https://example.com/full-stack-js-portfolio'}],\n",
       " [{'links': 'https://example.com/full-stack-js-portfolio'},\n",
       "  {'links': 'https://example.com/kotlin-backend-portfolio'}],\n",
       " [{'links': 'https://example.com/typescript-frontend-portfolio'},\n",
       "  {'links': 'https://example.com/full-stack-js-portfolio'}]]"
      ]
     },
     "execution_count": 55,
     "metadata": {},
     "output_type": "execute_result"
    }
   ],
   "source": [
    "links"
   ]
  },
  {
   "cell_type": "code",
   "execution_count": 20,
   "id": "3e77acf6",
   "metadata": {},
   "outputs": [
    {
     "data": {
      "text/plain": [
       "['React.js',\n",
       " 'HTML/CSS',\n",
       " 'Redux',\n",
       " 'TypeScript',\n",
       " 'JavaScript',\n",
       " 'Node.js',\n",
       " 'ES5+',\n",
       " 'Front-end functional testing']"
      ]
     },
     "execution_count": 20,
     "metadata": {},
     "output_type": "execute_result"
    }
   ],
   "source": [
    "jobs = jsonres\n",
    "jobs['skills']"
   ]
  },
  {
   "cell_type": "code",
   "execution_count": 33,
   "id": "8606226e",
   "metadata": {},
   "outputs": [],
   "source": [
    "email_prompt = PromptTemplate.from_template(\n",
    "    \"\"\"\n",
    "    ### JOB DESCRIPTION:\n",
    "    {job_description}\n",
    "\n",
    "    ### INSTRUCTION:\n",
    "    You are Yash, a business development executive at AtlasLabs. AtlasLabs is an AI research company dedicated to\n",
    "    facilitating new research about seamless integration of business processes through automated tools.\n",
    "    Over our experience, we have empowered numerous enterprises with tailored solutions, fostering scalability,\n",
    "    process optimization, cost reduction, and heightened overall efficiency.\n",
    "    Your job is to write a cold email to the client regarding the job mentioned above describing the capability of AtlasLabs\n",
    "    in fulfilling their needs.\n",
    "    Also add the most relevant ones from the following links to showcase AtlasLabs' portfolio : {link_list}\n",
    "    Remember, you are Yash, BDE at AtlasLabs.\n",
    "    Do not provide a preamble.\n",
    "    ### EMAIL (NO PREAMBLE):\n",
    "    \"\"\"\n",
    ")"
   ]
  },
  {
   "cell_type": "code",
   "execution_count": 34,
   "id": "d278fc4e",
   "metadata": {},
   "outputs": [
    {
     "name": "stdout",
     "output_type": "stream",
     "text": [
      "<think>\n",
      "Okay, so I need to help write a cold email for Yash from AtlasLabs to this client about the job opening. Let me start by understanding what the user is asking.\n",
      "\n",
      "First, I see that the job description is provided as a JSON object with role, experience, skills, and description. The candidate needs to have 5-12 years of experience in application development, specifically in React.js, HTML/CSS, Node.js, ES6+, Redux, TypeScript, front-end testing, Java best practices, and MS Office software.\n",
      "\n",
      "Yash's role is as a business development executive at AtlasLabs, which is an AI research company focused on seamless business process integration through automated tools. They've helped many enterprises with tailored solutions, leading to scalability, optimization, cost reduction, and efficiency.\n",
      "\n",
      "The task is to write a cold email to the client about this job, showcasing AtlasLabs' capabilities using relevant portfolio links: one for React.js and another for general Python development. The email shouldn't have a preamble.\n",
      "\n",
      "I should make sure the email is professional but personable, clearly stating the purpose of connecting. It needs to highlight how AtlasLabs can help with the given role and possibly touch on their AI expertise in process optimization, which ties into the job's Java best practices.\n",
      "\n",
      "I need to structure the email with a subject line that grabs attention, a friendly opening, a brief introduction about AtlasLabs, the purpose of reaching out regarding the job, and then link to the portfolio. I should also include a note on how AI can enhance their current initiatives, perhaps mentioning process automation or efficiency improvements.\n",
      "\n",
      "Wait, but the skills mentioned in the job include Java best practices. How does that tie into an AI company? Maybe Yash can suggest that their AI tools can complement existing Java applications, ensuring they're optimized and efficient.\n",
      "\n",
      "Also, since the job is about front-end development with React.js, it's good to showcase AtlasLabs' React portfolio. But we have two link options: one for ML in Python and another general Python, a React portfolio, and a React Native portfolio. Since the role is front-end focused on React.js, maybe using the React portfolio makes more sense.\n",
      "\n",
      "I should also consider that the email needs to be concise since it's a cold reach. Maybe start with a subject line that mentions the job title and the company name.\n",
      "\n",
      "Let me think about the structure:\n",
      "\n",
      "Subject: Opportunity for Application Developer - Experience Front End at AtlasLabs\n",
      "\n",
      "Hello [Recipient Name],\n",
      "\n",
      "I hope this message finds you well.\n",
      "\n",
      "My name is Yash, from AtlasLabs, an AI research company dedicated to integrating automated tools that enhance business processes. We've helped numerous enterprises optimize their workflows, reduce costs, and improve efficiency through tailored solutions.\n",
      "\n",
      "I'm reaching out because we're currently looking for a skilled Application Developer with experience in React.js, HTML/CSS, Node.js, etc., as mentioned in the job description. AtlasLabs is expanding its front-end capabilities and would love to explore how your expertise can contribute to our innovative AI solutions.\n",
      "\n",
      "Take a look at some of our recent projects here: [React Portfolio Link]. We specialize in creating seamless, efficient applications that could complement your technical skills.\n",
      "\n",
      "Looking forward to hearing from you and discussing potential collaboration opportunities.\n",
      "\n",
      "Best regards,\n",
      "\n",
      "Yash\n",
      "\n",
      "I think this covers the key points. It introduces Yash and AtlasLabs, links to relevant portfolio, mentions Java best practices and AI capabilities subtly, and keeps it concise without being too salesy.\n",
      "</think>\n",
      "\n",
      "Subject: Opportunity for Application Developer - Experience Front End at AtlasLabs\n",
      "\n",
      "Hello [Recipient Name],\n",
      "\n",
      "My name is Yash, from AtlasLabs, an AI research company dedicated to integrating automated tools that enhance business processes. We've helped numerous enterprises optimize their workflows, reduce costs, and improve efficiency through tailored solutions.\n",
      "\n",
      "I'm reaching out because we're currently looking for a skilled Application Developer with experience in React.js, HTML/CSS, Node.js, etc., as mentioned in the job description. AtlasLabs is expanding its front-end capabilities and would love to explore how your expertise can contribute to our innovative AI solutions.\n",
      "\n",
      "Take a look at some of our recent projects here: [React Portfolio Link]. We specialize in creating seamless, efficient applications that could complement your technical skills.\n",
      "\n",
      "Looking forward to hearing from you and discussing potential collaboration opportunities.\n",
      "\n",
      "Best regards,  \n",
      "Yash  \n",
      "Business Development Executive  \n",
      "AtlasLabs\n"
     ]
    }
   ],
   "source": [
    "chain_email = email_prompt | llm\n",
    "res = chain_email.invoke({'job_description':str(jobs), \"link_list\":links})\n",
    "print(res.content)"
   ]
  },
  {
   "cell_type": "code",
   "execution_count": 35,
   "id": "acb352cf",
   "metadata": {},
   "outputs": [],
   "source": [
    "word = res.content"
   ]
  },
  {
   "cell_type": "code",
   "execution_count": 36,
   "id": "43d86b19",
   "metadata": {},
   "outputs": [
    {
     "name": "stdout",
     "output_type": "stream",
     "text": [
      "\n",
      "\n",
      "Subject: Opportunity for Application Developer - Experience Front End at AtlasLabs\n",
      "\n",
      "Hello [Recipient Name],\n",
      "\n",
      "My name is Yash, from AtlasLabs, an AI research company dedicated to integrating automated tools that enhance business processes. We've helped numerous enterprises optimize their workflows, reduce costs, and improve efficiency through tailored solutions.\n",
      "\n",
      "I'm reaching out because we're currently looking for a skilled Application Developer with experience in React.js, HTML/CSS, Node.js, etc., as mentioned in the job description. AtlasLabs is expanding its front-end capabilities and would love to explore how your expertise can contribute to our innovative AI solutions.\n",
      "\n",
      "Take a look at some of our recent projects here: [React Portfolio Link]. We specialize in creating seamless, efficient applications that could complement your technical skills.\n",
      "\n",
      "Looking forward to hearing from you and discussing potential collaboration opportunities.\n",
      "\n",
      "Best regards,  \n",
      "Yash  \n",
      "Business Development Executive  \n",
      "AtlasLabs\n"
     ]
    }
   ],
   "source": [
    "words = word.split('</think>')\n",
    "print(words[1])"
   ]
  }
 ],
 "metadata": {
  "kernelspec": {
   "display_name": ".venv",
   "language": "python",
   "name": "python3"
  },
  "language_info": {
   "codemirror_mode": {
    "name": "ipython",
    "version": 3
   },
   "file_extension": ".py",
   "mimetype": "text/x-python",
   "name": "python",
   "nbconvert_exporter": "python",
   "pygments_lexer": "ipython3",
   "version": "3.10.0"
  }
 },
 "nbformat": 4,
 "nbformat_minor": 5
}
